{
 "cells": [
  {
   "cell_type": "code",
   "execution_count": null,
   "metadata": {},
   "outputs": [],
   "source": [
    "import plotly.graph_objects as go # That module contains a json object called go\n",
    "import plotly.express as px       # you know json .... dicts of python\n",
    "import numpy as np \n",
    "\n",
    "np.random.seed(10)\n",
    "\n",
    "X = np.arange(12)\n",
    "\n",
    "Y = np.random.randint(50, 500, size = 12)\n",
    "\n",
    "fig = go.Figure(data = go.Scatter(x = X, y = Y))\n",
    "\n",
    "fig.update_layout(title = 'Simple Line plot', xaxis_title = 'Month', yaxis_title = 'Sales')\n",
    "\n",
    "fig.show()\n",
    "\n"
   ]
  },
  {
   "cell_type": "code",
   "execution_count": null,
   "metadata": {},
   "outputs": [],
   "source": [
    "# Or using single line of code the graph can be ploted\n",
    "\n",
    "fig = px.line(x = X, y = Y, title = 'Simple Line PLot', labels = dict(x = 'Month', y = 'Sales'))\n",
    "fig.show()"
   ]
  }
 ],
 "metadata": {
  "language_info": {
   "name": "python"
  }
 },
 "nbformat": 4,
 "nbformat_minor": 2
}
