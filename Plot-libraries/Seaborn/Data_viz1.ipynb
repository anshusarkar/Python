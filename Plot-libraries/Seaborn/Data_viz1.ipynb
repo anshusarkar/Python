{
 "cells": [
  {
   "cell_type": "code",
   "execution_count": null,
   "metadata": {},
   "outputs": [],
   "source": [
    "import seaboen as sns\n",
    "import pandas as pd \n",
    "\n",
    "data_dict = {\n",
    "    \n",
    "    'year':[2010,2011,2012,2013,2015],\n",
    "    \n",
    "    \n",
    "}"
   ]
  }
 ],
 "metadata": {
  "language_info": {
   "name": "python"
  }
 },
 "nbformat": 4,
 "nbformat_minor": 2
}
