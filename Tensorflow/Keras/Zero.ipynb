{
 "cells": [
  {
   "cell_type": "code",
   "execution_count": 3,
   "metadata": {},
   "outputs": [
    {
     "name": "stderr",
     "output_type": "stream",
     "text": [
      "2023-08-20 10:38:30.400668: I tensorflow/tsl/cuda/cudart_stub.cc:28] Could not find cuda drivers on your machine, GPU will not be used.\n",
      "2023-08-20 10:38:30.751688: I tensorflow/tsl/cuda/cudart_stub.cc:28] Could not find cuda drivers on your machine, GPU will not be used.\n",
      "2023-08-20 10:38:30.757617: I tensorflow/core/platform/cpu_feature_guard.cc:182] This TensorFlow binary is optimized to use available CPU instructions in performance-critical operations.\n",
      "To enable the following instructions: AVX2 FMA, in other operations, rebuild TensorFlow with the appropriate compiler flags.\n",
      "2023-08-20 10:38:33.031448: W tensorflow/compiler/tf2tensorrt/utils/py_utils.cc:38] TF-TRT Warning: Could not find TensorRT\n"
     ]
    },
    {
     "data": {
      "image/png": "[encoded data removed]",
      "text/plain": [
       "<Figure size 640x480 with 2 Axes>"
      ]
     },
     "metadata": {},
     "output_type": "display_data"
    }
   ],
   "source": [
    "import tensorflow as tf\n",
    "from tensorflow import keras\n",
    "import numpy as np \n",
    "import matplotlib.pyplot as plt \n",
    "\n",
    "fashion_mnist  = keras.datasets.fashion_mnist \n",
    "\n",
    "(train_images , train_lables) , (test_images , test_labels) = fashion_mnist.load_data()\n",
    "\n",
    "# print(train_images.shape)\n",
    "\n",
    "# print(train_images[0,23,23])\n",
    "\n",
    "# print(train_images[:10]) #Using sliceing to take a look at the first 10 of the values \n",
    "\n",
    "class_names = ['T-shirt/top' , 'Trouser' , 'Pulover' , 'Dress' , 'Coat' , 'Sandel' , 'Shirt' ,'Sneaker' ,'Bag' ,'Ankel Boat' ]\n",
    "\n",
    "plt.figure()\n",
    "plt.imshow(train_images[0])\n",
    "plt.colorbar()\n",
    "plt.grid()\n",
    "plt.show() # This requirs gui so a notebook editor must be used , can't use terminal\n"
   ]
  },
  {
   "cell_type": "code",
   "execution_count": 4,
   "metadata": {},
   "outputs": [],
   "source": [
    "#Traning models using sequential api \n",
    "\n",
    "# Now the trasin images must be converted from grayscale images to an image of vlaues between 0 and 1 by deviding image values by 255 \n",
    "# which will result the values to change into 0 or 1 depending on their devisiblity on 255 (grayscale image ranges between 0-255 \n",
    "\n",
    "train_images = train_images/255.0\n",
    "\n",
    "test_images = test_images/255.0 \n"
   ]
  },
  {
   "cell_type": "code",
   "execution_count": 5,
   "metadata": {},
   "outputs": [
    {
     "name": "stderr",
     "output_type": "stream",
     "text": [
      "2023-08-20 10:38:40.978802: I tensorflow/compiler/xla/stream_executor/cuda/cuda_gpu_executor.cc:981] could not open file to read NUMA node: /sys/bus/pci/devices/0000:01:00.0/numa_node\n",
      "Your kernel may have been built without NUMA support.\n",
      "2023-08-20 10:38:40.979230: W tensorflow/core/common_runtime/gpu/gpu_device.cc:1960] Cannot dlopen some GPU libraries. Please make sure the missing libraries mentioned above are installed properly if you would like to use GPU. Follow the guide at https://www.tensorflow.org/install/gpu for how to download and setup the required libraries for your platform.\n",
      "Skipping registering GPU devices...\n"
     ]
    }
   ],
   "source": [
    "model = keras.Sequential([\n",
    "    keras.layers.Flatten(input_shape=(28,28)),    # input layer (1)\n",
    "    keras.layers.Dense(128, activation='relu'),   # hidden layer (2)\n",
    "    keras.layers.Dense(10, activation='softmax'), # hidden layer (3)\n",
    "])"
   ]
  },
  {
   "cell_type": "code",
   "execution_count": 7,
   "metadata": {},
   "outputs": [],
   "source": [
    "# Eger execution \n",
    "model.compile(optimizer='adam',\n",
    "              loss='sparse_categorical_crossentropy',\n",
    "              metrics=['accuracy'])"
   ]
  },
  {
   "cell_type": "code",
   "execution_count": 8,
   "metadata": {},
   "outputs": [
    {
     "name": "stderr",
     "output_type": "stream",
     "text": [
      "2023-08-20 10:42:19.840914: W tensorflow/tsl/framework/cpu_allocator_impl.cc:83] Allocation of 188160000 exceeds 10% of free system memory.\n"
     ]
    },
    {
     "name": "stdout",
     "output_type": "stream",
     "text": [
      "Epoch 1/10\n",
      "1875/1875 [==============================] - 14s 7ms/step - loss: 0.4992 - accuracy: 0.8253\n",
      "Epoch 2/10\n",
      "1875/1875 [==============================] - 12s 6ms/step - loss: 0.3745 - accuracy: 0.8644\n",
      "Epoch 3/10\n",
      "1875/1875 [==============================] - 11s 6ms/step - loss: 0.3347 - accuracy: 0.8785\n",
      "Epoch 4/10\n",
      "1875/1875 [==============================] - 13s 7ms/step - loss: 0.3110 - accuracy: 0.8865\n",
      "Epoch 5/10\n",
      "1875/1875 [==============================] - 14s 7ms/step - loss: 0.2942 - accuracy: 0.8925\n",
      "Epoch 6/10\n",
      "1875/1875 [==============================] - 18s 9ms/step - loss: 0.2797 - accuracy: 0.8972\n",
      "Epoch 7/10\n",
      "1875/1875 [==============================] - 19s 10ms/step - loss: 0.2690 - accuracy: 0.9004\n",
      "Epoch 8/10\n",
      "1875/1875 [==============================] - 17s 9ms/step - loss: 0.2567 - accuracy: 0.9057\n",
      "Epoch 9/10\n",
      "1875/1875 [==============================] - 14s 7ms/step - loss: 0.2453 - accuracy: 0.9079\n",
      "Epoch 10/10\n",
      "1875/1875 [==============================] - 15s 8ms/step - loss: 0.2384 - accuracy: 0.9115\n"
     ]
    },
    {
     "data": {
      "text/plain": [
       "<keras.src.callbacks.History at 0x7fdb1c80df90>"
      ]
     },
     "execution_count": 8,
     "metadata": {},
     "output_type": "execute_result"
    }
   ],
   "source": [
    "model.fit(train_images, train_lables, epochs=10)"
   ]
  },
  {
   "cell_type": "code",
   "execution_count": 9,
   "metadata": {},
   "outputs": [
    {
     "name": "stderr",
     "output_type": "stream",
     "text": [
      "2023-08-20 10:46:03.055960: W tensorflow/tsl/framework/cpu_allocator_impl.cc:83] Allocation of 31360000 exceeds 10% of free system memory.\n"
     ]
    },
    {
     "name": "stdout",
     "output_type": "stream",
     "text": [
      "313/313 [==============================] - 1s 3ms/step - loss: 0.3338 - accuracy: 0.8805\n",
      "Test accuracy :  0.8805000185966492\n"
     ]
    }
   ],
   "source": [
    "test_loss , test_acc = model.evaluate(test_images , test_labels)\n",
    "\n",
    "print('Test accuracy : ',test_acc)"
   ]
  },
  {
   "cell_type": "code",
   "execution_count": 10,
   "metadata": {},
   "outputs": [
    {
     "name": "stdout",
     "output_type": "stream",
     "text": [
      "  1/313 [..............................] - ETA: 29s"
     ]
    },
    {
     "name": "stderr",
     "output_type": "stream",
     "text": [
      "2023-08-20 10:47:55.247743: W tensorflow/tsl/framework/cpu_allocator_impl.cc:83] Allocation of 31360000 exceeds 10% of free system memory.\n"
     ]
    },
    {
     "name": "stdout",
     "output_type": "stream",
     "text": [
      "313/313 [==============================] - 1s 3ms/step\n"
     ]
    },
    {
     "data": {
      "text/plain": [
       "array([3.2167600e-07, 8.3863388e-10, 5.5838594e-08, 2.1499279e-10,\n",
       "       1.1341383e-07, 3.5862633e-04, 8.5887416e-07, 2.1646426e-03,\n",
       "       4.2236481e-09, 9.9747533e-01], dtype=float32)"
      ]
     },
     "execution_count": 10,
     "metadata": {},
     "output_type": "execute_result"
    }
   ],
   "source": [
    "#Makeing predictions\n",
    "predictions = model.predict(test_images)\n",
    "\n",
    "predictions[0]"
   ]
  },
  {
   "cell_type": "code",
   "execution_count": 11,
   "metadata": {},
   "outputs": [
    {
     "data": {
      "text/plain": [
       "9"
      ]
     },
     "execution_count": 11,
     "metadata": {},
     "output_type": "execute_result"
    }
   ],
   "source": [
    "np.argmax(predictions[0])"
   ]
  },
  {
   "cell_type": "code",
   "execution_count": 12,
   "metadata": {},
   "outputs": [
    {
     "data": {
      "text/plain": [
       "9"
      ]
     },
     "execution_count": 12,
     "metadata": {},
     "output_type": "execute_result"
    }
   ],
   "source": [
    "test_labels[0]"
   ]
  },
  {
   "cell_type": "code",
   "execution_count": 15,
   "metadata": {},
   "outputs": [
    {
     "name": "stdout",
     "output_type": "stream",
     "text": [
      "1/1 [==============================] - 0s 30ms/step\n"
     ]
    },
    {
     "ename": "AttributeError",
     "evalue": "'str' object has no attribute 'items'",
     "output_type": "error",
     "traceback": [
      "\u001b[0;31m---------------------------------------------------------------------------\u001b[0m",
      "\u001b[0;31mAttributeError\u001b[0m                            Traceback (most recent call last)",
      "Cell \u001b[0;32mIn[15], line 35\u001b[0m\n\u001b[1;32m     33\u001b[0m image \u001b[39m=\u001b[39m test_images[num]\n\u001b[1;32m     34\u001b[0m label \u001b[39m=\u001b[39m test_labels[num]\n\u001b[0;32m---> 35\u001b[0m predict(model , image , label)  \n",
      "Cell \u001b[0;32mIn[15], line 10\u001b[0m, in \u001b[0;36mpredict\u001b[0;34m(model, image, correct_label)\u001b[0m\n\u001b[1;32m      7\u001b[0m predictions\u001b[39m=\u001b[39mmodel\u001b[39m.\u001b[39mpredict(np\u001b[39m.\u001b[39marray([image]))\n\u001b[1;32m      8\u001b[0m predict_class \u001b[39m=\u001b[39m class_names[np\u001b[39m.\u001b[39margmax(predictions)]\n\u001b[0;32m---> 10\u001b[0m show_image(image, class_names[correct_label],predict_class)\n",
      "Cell \u001b[0;32mIn[15], line 16\u001b[0m, in \u001b[0;36mshow_image\u001b[0;34m(img, label, guess)\u001b[0m\n\u001b[1;32m     14\u001b[0m plt\u001b[39m.\u001b[39mfigure()\n\u001b[1;32m     15\u001b[0m plt\u001b[39m.\u001b[39mimshow(img, cmap\u001b[39m=\u001b[39mplt\u001b[39m.\u001b[39mcm\u001b[39m.\u001b[39mbinary)\n\u001b[0;32m---> 16\u001b[0m plt\u001b[39m.\u001b[39;49mtitle(\u001b[39m\"\u001b[39;49m\u001b[39mExpected : \u001b[39;49m\u001b[39m\"\u001b[39;49m , label)\n\u001b[1;32m     17\u001b[0m plt\u001b[39m.\u001b[39mxlabel(\u001b[39m\"\u001b[39m\u001b[39mGuess : \u001b[39m\u001b[39m\"\u001b[39m , guess)\n\u001b[1;32m     18\u001b[0m plt\u001b[39m.\u001b[39mcolorbar()\n",
      "File \u001b[0;32m~/.local/lib/python3.11/site-packages/matplotlib/pyplot.py:3084\u001b[0m, in \u001b[0;36mtitle\u001b[0;34m(label, fontdict, loc, pad, y, **kwargs)\u001b[0m\n\u001b[1;32m   3082\u001b[0m \u001b[39m@_copy_docstring_and_deprecators\u001b[39m(Axes\u001b[39m.\u001b[39mset_title)\n\u001b[1;32m   3083\u001b[0m \u001b[39mdef\u001b[39;00m \u001b[39mtitle\u001b[39m(label, fontdict\u001b[39m=\u001b[39m\u001b[39mNone\u001b[39;00m, loc\u001b[39m=\u001b[39m\u001b[39mNone\u001b[39;00m, pad\u001b[39m=\u001b[39m\u001b[39mNone\u001b[39;00m, \u001b[39m*\u001b[39m, y\u001b[39m=\u001b[39m\u001b[39mNone\u001b[39;00m, \u001b[39m*\u001b[39m\u001b[39m*\u001b[39mkwargs):\n\u001b[0;32m-> 3084\u001b[0m     \u001b[39mreturn\u001b[39;00m gca()\u001b[39m.\u001b[39;49mset_title(\n\u001b[1;32m   3085\u001b[0m         label, fontdict\u001b[39m=\u001b[39;49mfontdict, loc\u001b[39m=\u001b[39;49mloc, pad\u001b[39m=\u001b[39;49mpad, y\u001b[39m=\u001b[39;49my, \u001b[39m*\u001b[39;49m\u001b[39m*\u001b[39;49mkwargs)\n",
      "File \u001b[0;32m~/.local/lib/python3.11/site-packages/matplotlib/axes/_axes.py:179\u001b[0m, in \u001b[0;36mAxes.set_title\u001b[0;34m(self, label, fontdict, loc, pad, y, **kwargs)\u001b[0m\n\u001b[1;32m    177\u001b[0m title\u001b[39m.\u001b[39mupdate(default)\n\u001b[1;32m    178\u001b[0m \u001b[39mif\u001b[39;00m fontdict \u001b[39mis\u001b[39;00m \u001b[39mnot\u001b[39;00m \u001b[39mNone\u001b[39;00m:\n\u001b[0;32m--> 179\u001b[0m     title\u001b[39m.\u001b[39;49mupdate(fontdict)\n\u001b[1;32m    180\u001b[0m title\u001b[39m.\u001b[39m_internal_update(kwargs)\n\u001b[1;32m    181\u001b[0m \u001b[39mreturn\u001b[39;00m title\n",
      "File \u001b[0;32m~/.local/lib/python3.11/site-packages/matplotlib/text.py:223\u001b[0m, in \u001b[0;36mText.update\u001b[0;34m(self, kwargs)\u001b[0m\n\u001b[1;32m    221\u001b[0m \u001b[39mdef\u001b[39;00m \u001b[39mupdate\u001b[39m(\u001b[39mself\u001b[39m, kwargs):\n\u001b[1;32m    222\u001b[0m     \u001b[39m# docstring inherited\u001b[39;00m\n\u001b[0;32m--> 223\u001b[0m     kwargs \u001b[39m=\u001b[39m cbook\u001b[39m.\u001b[39;49mnormalize_kwargs(kwargs, Text)\n\u001b[1;32m    224\u001b[0m     sentinel \u001b[39m=\u001b[39m \u001b[39mobject\u001b[39m()  \u001b[39m# bbox can be None, so use another sentinel.\u001b[39;00m\n\u001b[1;32m    225\u001b[0m     \u001b[39m# Update fontproperties first, as it has lowest priority.\u001b[39;00m\n",
      "File \u001b[0;32m~/.local/lib/python3.11/site-packages/matplotlib/cbook/__init__.py:1776\u001b[0m, in \u001b[0;36mnormalize_kwargs\u001b[0;34m(kw, alias_mapping)\u001b[0m\n\u001b[1;32m   1773\u001b[0m canonical_to_seen \u001b[39m=\u001b[39m {}\n\u001b[1;32m   1774\u001b[0m ret \u001b[39m=\u001b[39m {}  \u001b[39m# output dictionary\u001b[39;00m\n\u001b[0;32m-> 1776\u001b[0m \u001b[39mfor\u001b[39;00m k, v \u001b[39min\u001b[39;00m kw\u001b[39m.\u001b[39;49mitems():\n\u001b[1;32m   1777\u001b[0m     canonical \u001b[39m=\u001b[39m to_canonical\u001b[39m.\u001b[39mget(k, k)\n\u001b[1;32m   1778\u001b[0m     \u001b[39mif\u001b[39;00m canonical \u001b[39min\u001b[39;00m canonical_to_seen:\n",
      "\u001b[0;31mAttributeError\u001b[0m: 'str' object has no attribute 'items'"
     ]
    },
    {
     "data": {
      "image/png": "[encoded data removed]",
      "text/plain": [
       "<Figure size 640x480 with 1 Axes>"
      ]
     },
     "metadata": {},
     "output_type": "display_data"
    }
   ],
   "source": [
    "COLOR = 'white'\n",
    "plt.rcParams['text.color'] = COLOR\n",
    "plt.rcParams['axes.labelcolor'] = COLOR\n",
    "\n",
    "def predict(model, image , correct_label):\n",
    "    class_names = ['T-shirt/top' , 'Trouser' , 'Pulover' , 'Dress' , 'Coat' , 'Sandel' , 'Shirt' ,'Sneaker' ,'Bag' ,'Ankel Boat' ]\n",
    "    predictions=model.predict(np.array([image]))\n",
    "    predict_class = class_names[np.argmax(predictions)]\n",
    "    \n",
    "    show_image(image, class_names[correct_label],predict_class)\n",
    "    \n",
    "    \n",
    "def show_image(img, label , guess):\n",
    "    plt.figure()\n",
    "    plt.imshow(img, cmap=plt.cm.binary)\n",
    "    plt.title(\"Expected : \" , label)\n",
    "    plt.xlabel(\"Guess : \" , guess)\n",
    "    plt.colorbar()\n",
    "    plt.grid(False)\n",
    "    plt.show()\n",
    "    \n",
    "def get_number():\n",
    "    while True :\n",
    "        num = input(\"Pick a number\")\n",
    "        if num.isdigit():\n",
    "            num = int(num)\n",
    "            if 0 <= num <= 1000:\n",
    "                return int(num)\n",
    "        else :\n",
    "            print(\"Try again.... \")\n",
    "            \n",
    "num = get_number()\n",
    "image = test_images[num]\n",
    "label = test_labels[num] \n",
    "predict(model , image , label)  \n"
   ]
  },
  {
   "cell_type": "code",
   "execution_count": null,
   "metadata": {},
   "outputs": [],
   "source": []
  }
 ],
 "metadata": {
  "kernelspec": {
   "display_name": "Python 3",
   "language": "python",
   "name": "python3"
  },
  "language_info": {
   "codemirror_mode": {
    "name": "ipython",
    "version": 3
   },
   "file_extension": ".py",
   "mimetype": "text/x-python",
   "name": "python",
   "nbconvert_exporter": "python",
   "pygments_lexer": "ipython3",
   "version": "3.11.4"
  },
  "orig_nbformat": 4
 },
 "nbformat": 4,
 "nbformat_minor": 2
}
