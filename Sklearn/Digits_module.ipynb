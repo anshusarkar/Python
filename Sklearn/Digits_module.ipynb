{
 "cells": [
  {
   "cell_type": "code",
   "execution_count": null,
   "metadata": {},
   "outputs": [],
   "source": [
    "from sklearn.datasets import load_digits\n",
    "from sklearn.datasets import load_iris\n",
    "from sklearn.datasets import load_wine\n",
    "digits = load_digits()\n",
    "iris = load_iris()\n",
    "wine = load_wine()\n",
    "\n",
    "#print(digits.DESCR)\n",
    "\n",
    "print(digits.keys()) #This method prints every methods avalable to the datasets\n",
    "print(iris.keys())\n",
    "print(wine.keys())\n",
    "print(wine.data)\n",
    "print(iris.data)\n",
    "print(digits.data)"
   ]
  }
 ],
 "metadata": {
  "kernelspec": {
   "display_name": "Python 3",
   "language": "python",
   "name": "python3"
  },
  "language_info": {
   "codemirror_mode": {
    "name": "ipython",
    "version": 3
   },
   "file_extension": ".py",
   "mimetype": "text/x-python",
   "name": "python",
   "nbconvert_exporter": "python",
   "pygments_lexer": "ipython3",
   "version": "3.11.3"
  },
  "orig_nbformat": 4
 },
 "nbformat": 4,
 "nbformat_minor": 2
}
