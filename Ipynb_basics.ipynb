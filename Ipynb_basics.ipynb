{
 "cells": [
  {
   "cell_type": "code",
   "execution_count": null,
   "metadata": {},
   "outputs": [],
   "source": [
    "# This is a commant in python code\n",
    "\n",
    "# Edit each mardown to inspect "
   ]
  },
  {
   "cell_type": "markdown",
   "metadata": {},
   "source": [
    "In ipynb a python code is saved using the extension .ipynb extension what stnads for \"Iron python notebook\" \n",
    "\n",
    "made with C# and python \n",
    "\n",
    "An ipynb can run on different python environments having different python versions \n",
    "\n",
    "with configurations to run on different hardwares like GPU or CPU if ran locally "
   ]
  },
  {
   "cell_type": "markdown",
   "metadata": {},
   "source": [
    "In Google collab or in VS code using the option Markdown i.e. md texy headings can be added for the functions , varriables \n",
    "\n",
    "all of the above are markdowns not commnets "
   ]
  },
  {
   "cell_type": "code",
   "execution_count": 1,
   "metadata": {},
   "outputs": [
    {
     "data": {
      "text/plain": [
       "'Hello !'"
      ]
     },
     "execution_count": 1,
     "metadata": {},
     "output_type": "execute_result"
    }
   ],
   "source": [
    "# Using the + code option a cunck of code can be writeen in \n",
    "\n",
    "def say_hello():\n",
    "    return \"Hello !\"\n",
    "\n",
    "say_hello()"
   ]
  },
  {
   "cell_type": "markdown",
   "metadata": {},
   "source": [
    "Using markdown mathamatical formulas can be inserted \n",
    "\n",
    "$$\n",
    "\\int_0^\\infty x^2dx\n",
    "$$\n",
    "\n",
    "\n",
    "\"$$\\int_0^\\infty x^2dx$$\"\n",
    "\n",
    "\"$E = mc^2$\"\n",
    "\n",
    "\"$\\frac{a}{b}$\"\n",
    "\n",
    "\"$\\sum_{i=1}^n i$\"\n",
    "\n",
    "\"$\\int_a^b f(x) \\, dx$\"\n",
    "\n",
    "\"$\\alpha$\"\n",
    "\n",
    "\"$\\beta$\n",
    "\n",
    "\"$\\gamma$\"\n",
    "\n",
    "\"$\\theta$\"\n",
    "\n",
    "\"$\\sigma$\"\n",
    "\n",
    "\"$\\delta$\"\n",
    "\n",
    "\"$\\pi$\"\n",
    "\n",
    "To look into the MD code simply inspect the code using edit icon in collab for the md code in vscode or collab "
   ]
  },
  {
   "cell_type": "code",
   "execution_count": 5,
   "metadata": {},
   "outputs": [
    {
     "data": {
      "text/latex": [
       "$\\displaystyle E = mc^2$"
      ],
      "text/plain": [
       "<IPython.core.display.Math object>"
      ]
     },
     "metadata": {},
     "output_type": "display_data"
    },
    {
     "data": {
      "text/latex": [
       "$$E = mc^2$$"
      ],
      "text/plain": [
       "<IPython.core.display.Latex object>"
      ]
     },
     "metadata": {},
     "output_type": "display_data"
    },
    {
     "data": {
      "text/latex": [
       "$$\\delta$$"
      ],
      "text/plain": [
       "<IPython.core.display.Latex object>"
      ]
     },
     "metadata": {},
     "output_type": "display_data"
    }
   ],
   "source": [
    "# It's actually possible to display math using code cells tooooo !\n",
    "\n",
    "from IPython.display import display, Math, Latex\n",
    "\n",
    "# Inline math\n",
    "display(Math('E = mc^2'))\n",
    "\n",
    "# Display math\n",
    "display(Latex(r'$$E = mc^2$$'))\n",
    "\n",
    "display(Latex(r'$$\\delta$$'))\n"
   ]
  },
  {
   "cell_type": "markdown",
   "metadata": {},
   "source": [
    "***This is a bold text***\n",
    "\n",
    "__This is bold and italic text__"
   ]
  },
  {
   "cell_type": "markdown",
   "metadata": {},
   "source": [
    "#### A small heading\n",
    "\n",
    "### A larger heading\n",
    "\n",
    "## A heading triple in size frrom the 1st heading \n",
    "\n",
    "# It get's bigger with the decrement of #'s\n",
    "\n",
    "Edit the Markdown to inspect "
   ]
  },
  {
   "cell_type": "markdown",
   "metadata": {},
   "source": []
  }
 ],
 "metadata": {
  "kernelspec": {
   "display_name": "Python 3",
   "language": "python",
   "name": "python3"
  },
  "language_info": {
   "codemirror_mode": {
    "name": "ipython",
    "version": 3
   },
   "file_extension": ".py",
   "mimetype": "text/x-python",
   "name": "python",
   "nbconvert_exporter": "python",
   "pygments_lexer": "ipython3",
   "version": "3.11.9"
  }
 },
 "nbformat": 4,
 "nbformat_minor": 2
}
